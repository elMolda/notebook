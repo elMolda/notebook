{
 "cells": [
  {
   "cell_type": "code",
   "execution_count": null,
   "metadata": {},
   "outputs": [],
   "source": [
    "import os\n",
    "\n",
    "p = os.path.join(\"dir\",\"path\")\n",
    "\n",
    "print(\"Hello world\")"
   ]
  }
 ],
"metadata": {
  "tracer": "3.7.0-SNAPSHOT-57c20131aabc1dc2a8c675852d80a7da"
 },
 "nbformat": 4,
 "nbformat_minor": 2
}
