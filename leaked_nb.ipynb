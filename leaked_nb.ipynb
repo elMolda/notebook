{
 "cells": [
  {
   "cell_type": "code",
   "execution_count": null,
   "metadata": {},
   "outputs": [],
   "source": [
    "import os\n",
    "\n",
    "p = os.path.join(\"dir\",\"path\")\n",
    "\n",
    "print(\"Hello world\")"
   ]
  }
 ],
 "metadata": {
  "kernelspec": {
   "display_name": "Python 3",
   "language": "python",
   "name": "python3"
  },
  "language_info": {
   "codemirror_mode": {
    "name": "ipython",
    "version": 3
   },
   "file_extension": ".py",
   "mimetype": "text/x-python",
   "name": "python",
   "nbconvert_exporter": "python",
   "pygments_lexer": "ipython3",
   "version": "3.6.7",
   "tracer": "3.7.0-a42630d745a422992679e51d90c5f139"
  }
 },
 "nbformat": 4,
 "nbformat_minor": 2
}
